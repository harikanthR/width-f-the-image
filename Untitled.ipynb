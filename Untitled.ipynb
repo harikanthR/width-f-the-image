{
 "cells": [
  {
   "cell_type": "code",
   "execution_count": null,
   "id": "07810f7d",
   "metadata": {},
   "outputs": [],
   "source": [
    "import cv2\n",
    "import numpy as np\n",
    "\n",
    "# Load the image\n",
    "img = cv2.imread(\"C://Users//User//Downloads//002.jpg\")\n",
    "\n",
    "# Convert the image to grayscale\n",
    "gray = cv2.cvtColor(img, cv2.COLOR_BGR2GRAY)\n",
    "\n",
    "# Apply a threshold to obtain a binary image\n",
    "ret, thresh = cv2.threshold(gray, 127, 255, cv2.THRESH_BINARY)\n",
    "\n",
    "# Find the contours in the binary image\n",
    "contours, hierarchy = cv2.findContours(thresh, cv2.RETR_TREE, cv2.CHAIN_APPROX_SIMPLE)\n",
    "\n",
    "# Draw the contours with a specific thickness\n",
    "thickness = 5\n",
    "img_contours = cv2.drawContours(img.copy(), contours, -1, (0, 255, 0), thickness)\n",
    "\n",
    "# Display the image with the contours\n",
    "cv2.imshow(\"Image with contours\", img_contours)\n",
    "cv2.waitKey(0)\n",
    "\n",
    "# Calculate the boundary width of the contours\n",
    "boundary_width = 2 * thickness + 1\n",
    "print(\"Boundary width:\", boundary_width)\n"
   ]
  },
  {
   "cell_type": "code",
   "execution_count": null,
   "id": "bb1a95d1",
   "metadata": {},
   "outputs": [],
   "source": []
  }
 ],
 "metadata": {
  "kernelspec": {
   "display_name": "Python 3 (ipykernel)",
   "language": "python",
   "name": "python3"
  },
  "language_info": {
   "codemirror_mode": {
    "name": "ipython",
    "version": 3
   },
   "file_extension": ".py",
   "mimetype": "text/x-python",
   "name": "python",
   "nbconvert_exporter": "python",
   "pygments_lexer": "ipython3",
   "version": "3.9.13"
  }
 },
 "nbformat": 4,
 "nbformat_minor": 5
}
